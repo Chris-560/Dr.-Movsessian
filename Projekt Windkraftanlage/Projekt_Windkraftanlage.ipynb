{
 "cells": [
  {
   "cell_type": "code",
   "execution_count": 1,
   "metadata": {},
   "outputs": [],
   "source": [
    "import numpy as np\n",
    "import pandas as pd\n",
    "import matplotlib.pyplot as plt\n",
    "import seaborn as sb\n",
    "from sklearn.metrics import roc_curve, auc\n",
    "from sklearn.preprocessing import StandardScaler, MinMaxScaler"
   ]
  },
  {
   "cell_type": "code",
   "execution_count": 2,
   "metadata": {},
   "outputs": [],
   "source": [
    "import ipywidgets as widgets\n",
    "from IPython.display import display\n",
    "import plotly.express as px"
   ]
  },
  {
   "cell_type": "code",
   "execution_count": 3,
   "metadata": {},
   "outputs": [
    {
     "data": {
      "text/html": [
       "<div>\n",
       "<style scoped>\n",
       "    .dataframe tbody tr th:only-of-type {\n",
       "        vertical-align: middle;\n",
       "    }\n",
       "\n",
       "    .dataframe tbody tr th {\n",
       "        vertical-align: top;\n",
       "    }\n",
       "\n",
       "    .dataframe thead th {\n",
       "        text-align: right;\n",
       "    }\n",
       "</style>\n",
       "<table border=\"1\" class=\"dataframe\">\n",
       "  <thead>\n",
       "    <tr style=\"text-align: right;\">\n",
       "      <th></th>\n",
       "      <th>Cov1_1</th>\n",
       "      <th>Cov1_2</th>\n",
       "      <th>Cov1_4</th>\n",
       "      <th>Cov1_5</th>\n",
       "      <th>Cov1_7</th>\n",
       "      <th>Cov1_8</th>\n",
       "      <th>Cov1_10</th>\n",
       "      <th>Cov1_11</th>\n",
       "      <th>Cov2_2</th>\n",
       "      <th>Cov2_4</th>\n",
       "      <th>...</th>\n",
       "      <th>DC2_RPM</th>\n",
       "      <th>Wind_Direction</th>\n",
       "      <th>Temperature</th>\n",
       "      <th>Preciptation</th>\n",
       "      <th>Generator_on_off</th>\n",
       "      <th>Power_kW</th>\n",
       "      <th>Pitch_deg</th>\n",
       "      <th>Yaw</th>\n",
       "      <th>Azimuth</th>\n",
       "      <th>novelty_index</th>\n",
       "    </tr>\n",
       "  </thead>\n",
       "  <tbody>\n",
       "    <tr>\n",
       "      <th>2922</th>\n",
       "      <td>1926.096405</td>\n",
       "      <td>22.077982</td>\n",
       "      <td>175.857296</td>\n",
       "      <td>-45.826991</td>\n",
       "      <td>50.419635</td>\n",
       "      <td>-196.514162</td>\n",
       "      <td>-19.894280</td>\n",
       "      <td>17.230319</td>\n",
       "      <td>106.262023</td>\n",
       "      <td>73.319511</td>\n",
       "      <td>...</td>\n",
       "      <td>32.025182</td>\n",
       "      <td>225.3840</td>\n",
       "      <td>2.175221</td>\n",
       "      <td>0.005802</td>\n",
       "      <td>1.0</td>\n",
       "      <td>-0.203927</td>\n",
       "      <td>-0.204647</td>\n",
       "      <td>10.02373</td>\n",
       "      <td>-35.567223</td>\n",
       "      <td>19.300004</td>\n",
       "    </tr>\n",
       "    <tr>\n",
       "      <th>2923</th>\n",
       "      <td>1968.053957</td>\n",
       "      <td>1.849336</td>\n",
       "      <td>237.957362</td>\n",
       "      <td>-40.600944</td>\n",
       "      <td>37.026843</td>\n",
       "      <td>-172.434916</td>\n",
       "      <td>-17.566236</td>\n",
       "      <td>12.396130</td>\n",
       "      <td>92.356970</td>\n",
       "      <td>53.739386</td>\n",
       "      <td>...</td>\n",
       "      <td>32.024936</td>\n",
       "      <td>225.4025</td>\n",
       "      <td>2.175308</td>\n",
       "      <td>0.005802</td>\n",
       "      <td>1.0</td>\n",
       "      <td>-0.203776</td>\n",
       "      <td>-0.166080</td>\n",
       "      <td>10.02100</td>\n",
       "      <td>-35.075370</td>\n",
       "      <td>18.866672</td>\n",
       "    </tr>\n",
       "    <tr>\n",
       "      <th>2924</th>\n",
       "      <td>1878.377866</td>\n",
       "      <td>17.217453</td>\n",
       "      <td>313.894413</td>\n",
       "      <td>-33.844109</td>\n",
       "      <td>56.978583</td>\n",
       "      <td>-157.683324</td>\n",
       "      <td>-14.607295</td>\n",
       "      <td>7.955903</td>\n",
       "      <td>96.110466</td>\n",
       "      <td>57.960094</td>\n",
       "      <td>...</td>\n",
       "      <td>32.025416</td>\n",
       "      <td>224.6777</td>\n",
       "      <td>2.154097</td>\n",
       "      <td>0.005802</td>\n",
       "      <td>1.0</td>\n",
       "      <td>-0.202933</td>\n",
       "      <td>-0.446031</td>\n",
       "      <td>10.02232</td>\n",
       "      <td>-27.235961</td>\n",
       "      <td>19.676828</td>\n",
       "    </tr>\n",
       "    <tr>\n",
       "      <th>2925</th>\n",
       "      <td>1883.592661</td>\n",
       "      <td>56.197118</td>\n",
       "      <td>452.159911</td>\n",
       "      <td>-29.978124</td>\n",
       "      <td>108.109518</td>\n",
       "      <td>-139.086048</td>\n",
       "      <td>6.094632</td>\n",
       "      <td>11.027323</td>\n",
       "      <td>106.358605</td>\n",
       "      <td>72.326554</td>\n",
       "      <td>...</td>\n",
       "      <td>32.026613</td>\n",
       "      <td>220.8360</td>\n",
       "      <td>2.157872</td>\n",
       "      <td>0.005802</td>\n",
       "      <td>1.0</td>\n",
       "      <td>-0.202147</td>\n",
       "      <td>-0.475663</td>\n",
       "      <td>10.02020</td>\n",
       "      <td>6.454405</td>\n",
       "      <td>19.960807</td>\n",
       "    </tr>\n",
       "    <tr>\n",
       "      <th>2926</th>\n",
       "      <td>1888.385538</td>\n",
       "      <td>48.195217</td>\n",
       "      <td>431.133481</td>\n",
       "      <td>-29.426011</td>\n",
       "      <td>87.764201</td>\n",
       "      <td>-129.770940</td>\n",
       "      <td>21.244808</td>\n",
       "      <td>12.426216</td>\n",
       "      <td>108.380538</td>\n",
       "      <td>70.841707</td>\n",
       "      <td>...</td>\n",
       "      <td>32.031763</td>\n",
       "      <td>213.0807</td>\n",
       "      <td>2.180657</td>\n",
       "      <td>0.005802</td>\n",
       "      <td>1.0</td>\n",
       "      <td>-0.202552</td>\n",
       "      <td>-0.527526</td>\n",
       "      <td>10.03005</td>\n",
       "      <td>104.349985</td>\n",
       "      <td>22.522516</td>\n",
       "    </tr>\n",
       "  </tbody>\n",
       "</table>\n",
       "<p>5 rows × 48 columns</p>\n",
       "</div>"
      ],
      "text/plain": [
       "           Cov1_1     Cov1_2      Cov1_4     Cov1_5      Cov1_7      Cov1_8  \\\n",
       "2922  1926.096405  22.077982  175.857296 -45.826991   50.419635 -196.514162   \n",
       "2923  1968.053957   1.849336  237.957362 -40.600944   37.026843 -172.434916   \n",
       "2924  1878.377866  17.217453  313.894413 -33.844109   56.978583 -157.683324   \n",
       "2925  1883.592661  56.197118  452.159911 -29.978124  108.109518 -139.086048   \n",
       "2926  1888.385538  48.195217  431.133481 -29.426011   87.764201 -129.770940   \n",
       "\n",
       "        Cov1_10    Cov1_11      Cov2_2     Cov2_4  ...    DC2_RPM  \\\n",
       "2922 -19.894280  17.230319  106.262023  73.319511  ...  32.025182   \n",
       "2923 -17.566236  12.396130   92.356970  53.739386  ...  32.024936   \n",
       "2924 -14.607295   7.955903   96.110466  57.960094  ...  32.025416   \n",
       "2925   6.094632  11.027323  106.358605  72.326554  ...  32.026613   \n",
       "2926  21.244808  12.426216  108.380538  70.841707  ...  32.031763   \n",
       "\n",
       "      Wind_Direction  Temperature  Preciptation  Generator_on_off  Power_kW  \\\n",
       "2922        225.3840     2.175221      0.005802               1.0 -0.203927   \n",
       "2923        225.4025     2.175308      0.005802               1.0 -0.203776   \n",
       "2924        224.6777     2.154097      0.005802               1.0 -0.202933   \n",
       "2925        220.8360     2.157872      0.005802               1.0 -0.202147   \n",
       "2926        213.0807     2.180657      0.005802               1.0 -0.202552   \n",
       "\n",
       "      Pitch_deg       Yaw     Azimuth  novelty_index  \n",
       "2922  -0.204647  10.02373  -35.567223      19.300004  \n",
       "2923  -0.166080  10.02100  -35.075370      18.866672  \n",
       "2924  -0.446031  10.02232  -27.235961      19.676828  \n",
       "2925  -0.475663  10.02020    6.454405      19.960807  \n",
       "2926  -0.527526  10.03005  104.349985      22.522516  \n",
       "\n",
       "[5 rows x 48 columns]"
      ]
     },
     "execution_count": 3,
     "metadata": {},
     "output_type": "execute_result"
    }
   ],
   "source": [
    "import pandas as pd\n",
    "\n",
    "# Laden der Datei in ein Pandas DataFrame\n",
    "datei_path = r\"C:\\Users\\Kunde\\Desktop\\BNT_Technikerschule\\Dr. Movsessian\\Projekt Windkraftanlage\\Features_for_SHAP32rpm_repaierd.txt\"\n",
    "df = pd.read_csv(datei_path)\n",
    "\n",
    "# Anzeigen der ersten Zeilen des DataFrames\n",
    "df.tail()\n",
    "\n",
    "\n",
    "# ..."
   ]
  },
  {
   "cell_type": "markdown",
   "metadata": {},
   "source": [
    "# Anzeige in Tabs (Jupyter Widgets)\n",
    "## Mit Jupyter Widgets können Sie die Spalten in Tabs aufteilen, um die Anzeige zu erleichter"
   ]
  },
  {
   "cell_type": "code",
   "execution_count": 4,
   "metadata": {},
   "outputs": [
    {
     "data": {
      "application/vnd.jupyter.widget-view+json": {
       "model_id": "7b3903319e0d4541b109425a300a8614",
       "version_major": 2,
       "version_minor": 0
      },
      "text/plain": [
       "Tab(children=(Output(layout=Layout(width='auto')), Output(layout=Layout(width='auto')), Output(layout=Layout(w…"
      ]
     },
     "metadata": {},
     "output_type": "display_data"
    },
    {
     "data": {
      "application/vnd.jupyter.widget-view+json": {
       "model_id": "8c8ce7887cb7475693033aa6828bba04",
       "version_major": 2,
       "version_minor": 0
      },
      "text/plain": [
       "Tab(children=(Output(layout=Layout(width='auto')), Output(layout=Layout(width='auto')), Output(layout=Layout(w…"
      ]
     },
     "metadata": {},
     "output_type": "display_data"
    },
    {
     "data": {
      "application/vnd.jupyter.widget-view+json": {
       "model_id": "62b98a5a896847eb86e4492aa52c67e0",
       "version_major": 2,
       "version_minor": 0
      },
      "text/plain": [
       "Tab(children=(Output(layout=Layout(width='auto')), Output(layout=Layout(width='auto')), Output(layout=Layout(w…"
      ]
     },
     "metadata": {},
     "output_type": "display_data"
    },
    {
     "data": {
      "application/vnd.jupyter.widget-view+json": {
       "model_id": "28ffc862ffb447d29cf8355e301cde7d",
       "version_major": 2,
       "version_minor": 0
      },
      "text/plain": [
       "Tab(children=(Output(layout=Layout(width='auto')), Output(layout=Layout(width='auto')), Output(layout=Layout(w…"
      ]
     },
     "metadata": {},
     "output_type": "display_data"
    },
    {
     "data": {
      "application/vnd.jupyter.widget-view+json": {
       "model_id": "e2bba10d1e3243a7b4450cca7466ca19",
       "version_major": 2,
       "version_minor": 0
      },
      "text/plain": [
       "Tab(children=(Output(layout=Layout(width='auto')), Output(layout=Layout(width='auto')), Output(layout=Layout(w…"
      ]
     },
     "metadata": {},
     "output_type": "display_data"
    }
   ],
   "source": [
    "def display_df_in_tabs(df, chunk_size=10):\n",
    "    num_chunks = (len(df.columns) + chunk_size - 1) // chunk_size\n",
    "    for i in range(num_chunks):\n",
    "        start = i * chunk_size\n",
    "        end = min((i + 1) * chunk_size, len(df.columns))\n",
    "        chunk = df.iloc[:, start:end]\n",
    "        tab = widgets.Tab(children=[widgets.Output(layout=widgets.Layout(width='auto')) for _ in range(len(chunk.columns))],\n",
    "                          titles=list(chunk.columns))\n",
    "        for j, col in enumerate(chunk.columns):\n",
    "            with tab.children[j]:\n",
    "                display(chunk[col])\n",
    "        display(tab)\n",
    "\n",
    "display_df_in_tabs(df)\n",
    "\n"
   ]
  },
  {
   "cell_type": "code",
   "execution_count": 5,
   "metadata": {},
   "outputs": [
    {
     "name": "stdout",
     "output_type": "stream",
     "text": [
      "Generator_on_off\n",
      "1.000000    2127\n",
      "0.000000      31\n",
      "0.888542       1\n",
      "0.807813       1\n",
      "0.701042       1\n",
      "0.854167       1\n",
      "0.658333       1\n",
      "0.752083       1\n",
      "0.475521       1\n",
      "0.744271       1\n",
      "0.857812       1\n",
      "0.846354       1\n",
      "Name: count, dtype: int64\n"
     ]
    }
   ],
   "source": [
    "df_2=df\n",
    "print(df_2[\"Generator_on_off\"].value_counts())\n"
   ]
  },
  {
   "cell_type": "markdown",
   "metadata": {},
   "source": []
  },
  {
   "cell_type": "code",
   "execution_count": 6,
   "metadata": {},
   "outputs": [
    {
     "data": {
      "text/plain": [
       "Index(['Cov1_1', 'Cov1_2', 'Cov1_4', 'Cov1_5', 'Cov1_7', 'Cov1_8', 'Cov1_10',\n",
       "       'Cov1_11', 'Cov2_2', 'Cov2_4', 'Cov2_5', 'Cov2_7', 'Cov2_8', 'Cov2_10',\n",
       "       'Cov2_11', 'Cov4_4', 'Cov4_5', 'Cov4_7', 'Cov4_8', 'Cov4_10', 'Cov4_11',\n",
       "       'Cov5_5', 'Cov5_7', 'Cov5_8', 'Cov5_10', 'Cov5_11', 'Cov7_7', 'Cov7_8',\n",
       "       'Cov7_10', 'Cov7_11', 'Cov8_8', 'Cov8_10', 'Cov8_11', 'Cov10_10',\n",
       "       'Cov10_11', 'Cov11_11', 'WindSpeed', 'DC1_RPM', 'DC2_RPM',\n",
       "       'Wind_Direction', 'Temperature', 'Preciptation', 'Generator_on_off',\n",
       "       'Power_kW', 'Pitch_deg', 'Yaw', 'Azimuth', 'novelty_index'],\n",
       "      dtype='object')"
      ]
     },
     "execution_count": 6,
     "metadata": {},
     "output_type": "execute_result"
    }
   ],
   "source": [
    "df.columns"
   ]
  },
  {
   "cell_type": "code",
   "execution_count": 7,
   "metadata": {},
   "outputs": [
    {
     "name": "stdout",
     "output_type": "stream",
     "text": [
      "   WindSpeed  Wind_Direction  Temperature  Preciptation   DC1_RPM   DC2_RPM  \\\n",
      "0   0.145542        0.838095     0.363770      0.953488  0.968860  0.946192   \n",
      "1   0.112612        0.863321     0.359408      0.953488  0.970191  0.949021   \n",
      "2   0.105434        0.851611     0.358454      0.953488  0.950558  0.930401   \n",
      "3   0.104907        0.877472     0.355140      0.953488  0.914142  0.895160   \n",
      "4   0.093385        0.853076     0.350759      0.953488  0.205302  0.779602   \n",
      "\n",
      "   Power_kW  Pitch_deg       Yaw   Azimuth  ...    Cov7_7    Cov7_8   Cov7_10  \\\n",
      "0  0.078971   0.431931  0.980381  0.720479  ...  0.646088  0.486132  0.488080   \n",
      "1  0.079062   0.489718  0.975601  0.969982  ...  0.615289  0.304033  0.458650   \n",
      "2  0.079076   0.122621  0.976113  0.551947  ...  0.713952  0.634155  0.647971   \n",
      "3  0.079094   0.048987  0.980301  0.400981  ...  0.602873  0.511900  0.432717   \n",
      "4  0.078988   0.047906  0.983583  0.381388  ...  0.594061  0.424264  0.377281   \n",
      "\n",
      "    Cov7_11    Cov8_8   Cov8_10   Cov8_11  Cov10_10  Cov10_11  Cov11_11  \n",
      "0  0.657605  0.424423  0.252091  0.743525  0.444770  0.617824  0.266478  \n",
      "1  0.729062  0.427473  0.537109  0.719936  0.411502  0.547124  0.368297  \n",
      "2  0.529754  0.380015  0.585424  0.805302  0.458150  0.719569  0.360895  \n",
      "3  0.584887  0.445634  0.697649  0.777828  0.444005  0.708186  0.340053  \n",
      "4  0.545160  0.318625  0.481435  0.868588  0.519622  0.707481  0.241421  \n",
      "\n",
      "[5 rows x 47 columns]\n"
     ]
    }
   ],
   "source": [
    "\n",
    "\n",
    "# ✅ 1. Daten laden (angenommen, dein DataFrame heißt df)\n",
    "# Falls du CSV-Daten hast, kannst du sie so laden: df = pd.read_csv(\"deine_datei.csv\")\n",
    "\n",
    "# ✅ 2. Wichtige Spalten auswählen\n",
    "relevante_spalten = [\n",
    "    \"WindSpeed\", \"Wind_Direction\", \"Temperature\", \"Preciptation\",  # Umweltbedingungen\n",
    "    \"DC1_RPM\", \"DC2_RPM\", \"Power_kW\", \"Pitch_deg\", \"Yaw\", \"Azimuth\",  # Betriebsdaten\n",
    "    \"Generator_on_off\", # Status \n",
    "]\n",
    "\n",
    "# Falls \"Cov1\"-\"Cov36\" Sensordaten sind und du sie behalten willst:\n",
    "cov_spalten = [col for col in df.columns if col.startswith(\"Cov\")]\n",
    "\n",
    "# Endgültige Spaltenliste\n",
    "features = relevante_spalten + cov_spalten\n",
    "\n",
    "# ✅ 3. Daten filtern\n",
    "df = df[features]\n",
    "\n",
    "# ✅ 4. Fehlende Werte behandeln (hier: Entfernen von Zeilen mit NaN)\n",
    "df = df.dropna()\n",
    "\n",
    "# ✅ 5. Skalierung der numerischen Werte (außer Generator_on_off, da 0/1)\n",
    "scaler = MinMaxScaler()\n",
    "numerische_spalten = [col for col in df.columns if col != \"Generator_on_off\"]\n",
    "df[numerische_spalten] = scaler.fit_transform(df[numerische_spalten])\n",
    "\n",
    "# ✅ 6. Ergebnis anzeigen\n",
    "print(df.head())\n",
    "\n",
    "# Optional: Daten speichern\n",
    "# df.to_csv(\"vorbereitete_daten.csv\", index=False)\n"
   ]
  },
  {
   "cell_type": "code",
   "execution_count": 8,
   "metadata": {},
   "outputs": [
    {
     "name": "stdout",
     "output_type": "stream",
     "text": [
      "   Schadensindex  WindSpeed  Wind_Direction  Temperature  Preciptation  \\\n",
      "0       0.093362   0.145542        0.838095     0.363770      0.953488   \n",
      "1       0.094993   0.112612        0.863321     0.359408      0.953488   \n",
      "2       0.130778   0.105434        0.851611     0.358454      0.953488   \n",
      "3       0.133835   0.104907        0.877472     0.355140      0.953488   \n",
      "4       0.535795   0.093385        0.853076     0.350759      0.953488   \n",
      "\n",
      "    DC1_RPM   DC2_RPM  Power_kW  Pitch_deg       Yaw  ...    Cov7_7    Cov7_8  \\\n",
      "0  0.968860  0.946192  0.078971   0.431931  0.980381  ...  0.646088  0.486132   \n",
      "1  0.970191  0.949021  0.079062   0.489718  0.975601  ...  0.615289  0.304033   \n",
      "2  0.950558  0.930401  0.079076   0.122621  0.976113  ...  0.713952  0.634155   \n",
      "3  0.914142  0.895160  0.079094   0.048987  0.980301  ...  0.602873  0.511900   \n",
      "4  0.205302  0.779602  0.078988   0.047906  0.983583  ...  0.594061  0.424264   \n",
      "\n",
      "    Cov7_10   Cov7_11    Cov8_8   Cov8_10   Cov8_11  Cov10_10  Cov10_11  \\\n",
      "0  0.488080  0.657605  0.424423  0.252091  0.743525  0.444770  0.617824   \n",
      "1  0.458650  0.729062  0.427473  0.537109  0.719936  0.411502  0.547124   \n",
      "2  0.647971  0.529754  0.380015  0.585424  0.805302  0.458150  0.719569   \n",
      "3  0.432717  0.584887  0.445634  0.697649  0.777828  0.444005  0.708186   \n",
      "4  0.377281  0.545160  0.318625  0.481435  0.868588  0.519622  0.707481   \n",
      "\n",
      "   Cov11_11  \n",
      "0  0.266478  \n",
      "1  0.368297  \n",
      "2  0.360895  \n",
      "3  0.340053  \n",
      "4  0.241421  \n",
      "\n",
      "[5 rows x 47 columns]\n"
     ]
    }
   ],
   "source": [
    "\n",
    "from scipy.spatial.distance import mahalanobis\n",
    "\n",
    "# ✅ 1. Kovarianzmatrix berechnen\n",
    "cov_matrix = np.cov(df[numerische_spalten].values, rowvar=False)\n",
    "cov_inv = np.linalg.inv(cov_matrix)  # Inverse der Kovarianzmatrix\n",
    "\n",
    "# ✅ 2. Mittelwerte des Normalzustands berechnen\n",
    "mean_values = df[numerische_spalten].mean().values  \n",
    "\n",
    "# ✅ 3. Mahalanobis-Distanz für jede Zeile berechnen\n",
    "df[\"Schadensindex\"] = df[numerische_spalten].apply(lambda x: mahalanobis(x, mean_values, cov_inv), axis=1)\n",
    "\n",
    "# ✅ 4. Schadensindex normalisieren (0-1 Skala)\n",
    "df[\"Schadensindex\"] = (df[\"Schadensindex\"] - df[\"Schadensindex\"].min()) / (df[\"Schadensindex\"].max() - df[\"Schadensindex\"].min())\n",
    "\n",
    "# ✅ 5. Ergebnisse anzeigen\n",
    "print(df[[\"Schadensindex\"] + numerische_spalten].head())\n",
    "\n",
    "# Optional: Daten speichern\n",
    "# df.to_csv(\"schadensindex_daten.csv\", index=False)\n"
   ]
  },
  {
   "cell_type": "code",
   "execution_count": 9,
   "metadata": {},
   "outputs": [
    {
     "data": {
      "application/vnd.jupyter.widget-view+json": {
       "model_id": "b1e21584747c4ac9a6fe77dabb79feca",
       "version_major": 2,
       "version_minor": 0
      },
      "text/plain": [
       "interactive(children=(Dropdown(description='Diagramm:', options=('Trend (Index)', 'Windgeschwindigkeit', 'Temp…"
      ]
     },
     "execution_count": 9,
     "metadata": {},
     "output_type": "execute_result"
    }
   ],
   "source": [
    "import pandas as pd\n",
    "import matplotlib.pyplot as plt\n",
    "import ipywidgets as widgets\n",
    "from IPython.display import display\n",
    "\n",
    "# ✅ Zeilenindex als Ersatz für Zeitstempel\n",
    "df[\"Index\"] = df.index  \n",
    "\n",
    "# ✅ Funktion zur Erstellung der Diagramme\n",
    "def plot_schadensindex(typ):\n",
    "    plt.figure(figsize=(8, 5))\n",
    "\n",
    "    if typ == \"Trend (Index)\":\n",
    "        plt.plot(df[\"Index\"], df[\"Schadensindex\"], color=\"red\", label=\"Schadensindex\")\n",
    "        plt.xlabel(\"Datenindex\")\n",
    "        plt.ylabel(\"Schadensindex\")\n",
    "        plt.title(\"Schadensindex über die Datenreihenfolge\")\n",
    "        plt.legend()\n",
    "\n",
    "    elif typ == \"Windgeschwindigkeit\":\n",
    "        plt.scatter(df[\"WindSpeed\"], df[\"Schadensindex\"], alpha=0.5, color=\"blue\")\n",
    "        plt.xlabel(\"Windgeschwindigkeit (m/s)\")\n",
    "        plt.ylabel(\"Schadensindex\")\n",
    "        plt.title(\"Zusammenhang zwischen Windgeschwindigkeit und Schadensindex\")\n",
    "\n",
    "    elif typ == \"Temperatur\":\n",
    "        plt.scatter(df[\"Temperature\"], df[\"Schadensindex\"], alpha=0.5, color=\"green\")\n",
    "        plt.xlabel(\"Temperatur (°C)\")\n",
    "        plt.ylabel(\"Schadensindex\")\n",
    "        plt.title(\"Einfluss der Temperatur auf den Schadensindex\")\n",
    "\n",
    "    plt.grid()\n",
    "    plt.show()\n",
    "\n",
    "# ✅ Dropdown-Widget für Auswahl\n",
    "dropdown = widgets.Dropdown(\n",
    "    options=[\"Trend (Index)\", \"Windgeschwindigkeit\", \"Temperatur\"],\n",
    "    value=\"Trend (Index)\",\n",
    "    description=\"Diagramm:\",\n",
    ")\n",
    "\n",
    "# ✅ Anzeige aktualisieren, wenn Auswahl geändert wird\n",
    "widgets.interactive(plot_schadensindex, typ=dropdown)\n"
   ]
  }
 ],
 "metadata": {
  "kernelspec": {
   "display_name": "Python 3",
   "language": "python",
   "name": "python3"
  },
  "language_info": {
   "codemirror_mode": {
    "name": "ipython",
    "version": 3
   },
   "file_extension": ".py",
   "mimetype": "text/x-python",
   "name": "python",
   "nbconvert_exporter": "python",
   "pygments_lexer": "ipython3",
   "version": "3.12.2"
  }
 },
 "nbformat": 4,
 "nbformat_minor": 2
}
